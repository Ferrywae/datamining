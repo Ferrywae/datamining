{
  "nbformat": 4,
  "nbformat_minor": 0,
  "metadata": {
    "colab": {
      "provenance": []
    },
    "kernelspec": {
      "name": "python3",
      "display_name": "Python 3"
    },
    "language_info": {
      "name": "python"
    }
  },
  "cells": [
    {
      "cell_type": "code",
      "execution_count": 1,
      "metadata": {
        "id": "0cqhGjQRAl3e"
      },
      "outputs": [],
      "source": [
        "# Mengimpor library yang dibutuhkan\n",
        "from google.colab import drive\n",
        "import pandas as pd\n",
        "import seaborn as sns\n",
        "import matplotlib.pyplot as plt\n",
        "import numpy as np\n",
        "from sklearn.model_selection import train_test_split\n",
        "from sklearn.tree import DecisionTreeClassifier\n",
        "from sklearn.metrics import accuracy_score, classification_report, confusion_matrix"
      ]
    },
    {
      "cell_type": "code",
      "source": [
        "\n",
        "# Menghubungkan ke Google Drive\n",
        "drive.mount('/content/drive')"
      ],
      "metadata": {
        "colab": {
          "base_uri": "https://localhost:8080/"
        },
        "id": "aF_ZatX0CXxN",
        "outputId": "45d94196-becb-4e1f-a785-165cf6266035"
      },
      "execution_count": 2,
      "outputs": [
        {
          "output_type": "stream",
          "name": "stdout",
          "text": [
            "Mounted at /content/drive\n"
          ]
        }
      ]
    },
    {
      "cell_type": "code",
      "source": [
        "# Memuat dataset\n",
        "file_path = '/content/drive/My Drive/Colab Notebooks/DataMining/gk.csv'\n",
        "dataset = pd.read_csv(file_path)"
      ],
      "metadata": {
        "id": "4jHTtG0pChzk"
      },
      "execution_count": 4,
      "outputs": []
    },
    {
      "cell_type": "code",
      "source": [
        "# Menampilkan 5 baris pertama dari dataset\n",
        "print(\"5 Baris Pertama dari Dataset:\")\n",
        "print(dataset.head())"
      ],
      "metadata": {
        "colab": {
          "base_uri": "https://localhost:8080/"
        },
        "id": "ecPV4Re3CrR8",
        "outputId": "a7085f2a-d4e4-4089-ce91-ae30d156d26d"
      },
      "execution_count": 5,
      "outputs": [
        {
          "output_type": "stream",
          "name": "stdout",
          "text": [
            "5 Baris Pertama dari Dataset:\n",
            "         provinsi  gk.makanan.perkotaan.2015.maret  \\\n",
            "0            ACEH                           293697   \n",
            "1  SUMATERA UTARA                           261677   \n",
            "2  SUMATERA BARAT                           288410   \n",
            "3            RIAU                           280361   \n",
            "4           JAMBI                           297507   \n",
            "\n",
            "   gk.makanan.perkotaan.2015.september  gk.makanan.perkotaan.2016.maret  \\\n",
            "0                               302128                           306243   \n",
            "1                               273271                           290096   \n",
            "2                               301356                           312154   \n",
            "3                               288956                           292026   \n",
            "4                               308379                           319954   \n",
            "\n",
            "   gk.makanan.perkotaan.2016.september  gk.makanan.perdesaan.2015.maret  \\\n",
            "0                               319768                         297479.0   \n",
            "1                               302027                         266143.0   \n",
            "2                               322168                         293768.0   \n",
            "3                               301570                         302422.0   \n",
            "4                               328157                         247652.0   \n",
            "\n",
            "   gk.makanan.perdesaan.2015.september  gk.makanan.perdesaan.2016.maret  \\\n",
            "0                             306737.0                         315697.0   \n",
            "1                             284650.0                         304942.0   \n",
            "2                             313294.0                         332415.0   \n",
            "3                             318195.0                         326262.0   \n",
            "4                             258946.0                         270888.0   \n",
            "\n",
            "   gk.makanan.perdesaan.2016.september  \\\n",
            "0                             324854.0   \n",
            "1                             313234.0   \n",
            "2                             341816.0   \n",
            "3                             333174.0   \n",
            "4                             277173.0   \n",
            "\n",
            "   gk.makanan.perdesaanperkotaan.2015.maret  ...  \\\n",
            "0                                    296406  ...   \n",
            "1                                    263932  ...   \n",
            "2                                    291641  ...   \n",
            "3                                    293851  ...   \n",
            "4                                    262791  ...   \n",
            "\n",
            "   gk.total.perkotaan.2022.maret  gk.total.perkotaan.2022.september  \\\n",
            "0                         606394                             646232   \n",
            "1                         583221                             615227   \n",
            "2                         622579                             668643   \n",
            "3                         642008                             686945   \n",
            "4                         635708                             684555   \n",
            "\n",
            "   gk.total.perdesaan.2021.maret  gk.total.perdesaan.2021.september  \\\n",
            "0                       529035.0                           541000.0   \n",
            "1                       504685.0                           513987.0   \n",
            "2                       556181.0                           566224.0   \n",
            "3                       546807.0                           564900.0   \n",
            "4                       470758.0                           479006.0   \n",
            "\n",
            "   gk.total.perdesaan.2022.maret  gk.total.perdesaan.2022.september  \\\n",
            "0                       565762.0                           602900.0   \n",
            "1                       534184.0                           563783.0   \n",
            "2                       598431.0                           638946.0   \n",
            "3                       582224.0                           623910.0   \n",
            "4                       503811.0                           541267.0   \n",
            "\n",
            "   gk.total.perdesaanperkotaan.2021.maret  \\\n",
            "0                                  541109   \n",
            "1                                  525756   \n",
            "2                                  568703   \n",
            "3                                  565937   \n",
            "4                                  506355   \n",
            "\n",
            "   gk.total.perdesaanperkotaan.2021.september  \\\n",
            "0                                      552939   \n",
            "1                                      537311   \n",
            "2                                      579545   \n",
            "3                                      586062   \n",
            "4                                      517723   \n",
            "\n",
            "   gk.total.perdesaanperkotaan.2022.maret  \\\n",
            "0                                  579228   \n",
            "1                                  561004   \n",
            "2                                  610940   \n",
            "3                                  605912   \n",
            "4                                  545870   \n",
            "\n",
            "   gk.total.perdesaanperkotaan.2022.september  \n",
            "0                                      617293  \n",
            "1                                      592025  \n",
            "2                                      654194  \n",
            "3                                      648832  \n",
            "4                                      585950  \n",
            "\n",
            "[5 rows x 157 columns]\n"
          ]
        }
      ]
    },
    {
      "cell_type": "code",
      "source": [
        "# Menampilkan informasi tentang dataset\n",
        "print(\"\\nInformasi Dataset:\")\n",
        "print(dataset.info())"
      ],
      "metadata": {
        "colab": {
          "base_uri": "https://localhost:8080/"
        },
        "id": "hNyCBR6UCv_W",
        "outputId": "2201ff54-359a-4093-eaa3-fc280e200032"
      },
      "execution_count": 6,
      "outputs": [
        {
          "output_type": "stream",
          "name": "stdout",
          "text": [
            "\n",
            "Informasi Dataset:\n",
            "<class 'pandas.core.frame.DataFrame'>\n",
            "RangeIndex: 35 entries, 0 to 34\n",
            "Columns: 157 entries, provinsi to gk.total.perdesaanperkotaan.2022.september\n",
            "dtypes: float64(60), int64(96), object(1)\n",
            "memory usage: 43.1+ KB\n",
            "None\n"
          ]
        }
      ]
    },
    {
      "cell_type": "code",
      "source": [
        "# Mengganti nilai '?' dengan NaN\n",
        "dataset.replace(\"?\", np.nan, inplace=True)\n"
      ],
      "metadata": {
        "id": "09iSeNJ6C0C6"
      },
      "execution_count": 7,
      "outputs": []
    },
    {
      "cell_type": "code",
      "source": [
        "# Memeriksa nilai yang hilang\n",
        "print(\"\\nPersentase Nilai yang Hilang di Setiap Kolom:\")\n",
        "print(dataset.isnull().mean() * 100)"
      ],
      "metadata": {
        "colab": {
          "base_uri": "https://localhost:8080/"
        },
        "id": "uwoTJwzvC37C",
        "outputId": "c01af3a2-dda8-44ba-92fe-bde4f3a52fc3"
      },
      "execution_count": 8,
      "outputs": [
        {
          "output_type": "stream",
          "name": "stdout",
          "text": [
            "\n",
            "Persentase Nilai yang Hilang di Setiap Kolom:\n",
            "provinsi                                      0.000000\n",
            "gk.makanan.perkotaan.2015.maret               0.000000\n",
            "gk.makanan.perkotaan.2015.september           0.000000\n",
            "gk.makanan.perkotaan.2016.maret               0.000000\n",
            "gk.makanan.perkotaan.2016.september           0.000000\n",
            "                                                ...   \n",
            "gk.total.perdesaan.2022.september             2.857143\n",
            "gk.total.perdesaanperkotaan.2021.maret        0.000000\n",
            "gk.total.perdesaanperkotaan.2021.september    0.000000\n",
            "gk.total.perdesaanperkotaan.2022.maret        0.000000\n",
            "gk.total.perdesaanperkotaan.2022.september    0.000000\n",
            "Length: 157, dtype: float64\n"
          ]
        }
      ]
    },
    {
      "cell_type": "code",
      "source": [
        "# Menghapus duplikat jika ada\n",
        "dataset = dataset.drop_duplicates()\n",
        "print(\"\\nJumlah Baris setelah Menghapus Duplikat:\", dataset.shape[0])"
      ],
      "metadata": {
        "colab": {
          "base_uri": "https://localhost:8080/"
        },
        "id": "vYRm6Y_pC8O_",
        "outputId": "ffce0e8d-7925-416d-9ac4-0b9caf928479"
      },
      "execution_count": 9,
      "outputs": [
        {
          "output_type": "stream",
          "name": "stdout",
          "text": [
            "\n",
            "Jumlah Baris setelah Menghapus Duplikat: 35\n"
          ]
        }
      ]
    },
    {
      "cell_type": "code",
      "source": [
        "# Tampilkan semua nama kolom yang ada\n",
        "print(\"\\nNama Kolom dalam Dataset:\")\n",
        "print(dataset.columns)"
      ],
      "metadata": {
        "colab": {
          "base_uri": "https://localhost:8080/"
        },
        "id": "D_blRmqBDAUv",
        "outputId": "65d701db-b73b-473a-8bf7-cd54994f6051"
      },
      "execution_count": 11,
      "outputs": [
        {
          "output_type": "stream",
          "name": "stdout",
          "text": [
            "\n",
            "Nama Kolom dalam Dataset:\n",
            "Index(['provinsi', 'gk.makanan.perkotaan.2015.maret',\n",
            "       'gk.makanan.perkotaan.2015.september',\n",
            "       'gk.makanan.perkotaan.2016.maret',\n",
            "       'gk.makanan.perkotaan.2016.september',\n",
            "       'gk.makanan.perdesaan.2015.maret',\n",
            "       'gk.makanan.perdesaan.2015.september',\n",
            "       'gk.makanan.perdesaan.2016.maret',\n",
            "       'gk.makanan.perdesaan.2016.september',\n",
            "       'gk.makanan.perdesaanperkotaan.2015.maret',\n",
            "       ...\n",
            "       'gk.total.perkotaan.2022.maret', 'gk.total.perkotaan.2022.september',\n",
            "       'gk.total.perdesaan.2021.maret', 'gk.total.perdesaan.2021.september',\n",
            "       'gk.total.perdesaan.2022.maret', 'gk.total.perdesaan.2022.september',\n",
            "       'gk.total.perdesaanperkotaan.2021.maret',\n",
            "       'gk.total.perdesaanperkotaan.2021.september',\n",
            "       'gk.total.perdesaanperkotaan.2022.maret',\n",
            "       'gk.total.perdesaanperkotaan.2022.september'],\n",
            "      dtype='object', length=157)\n"
          ]
        }
      ]
    },
    {
      "cell_type": "code",
      "source": [
        "dataset.columns.tolist()"
      ],
      "metadata": {
        "colab": {
          "base_uri": "https://localhost:8080/"
        },
        "id": "IDMNdLuWDZRl",
        "outputId": "5fbfeedb-c232-4837-9b3b-f1794324e8e6"
      },
      "execution_count": 16,
      "outputs": [
        {
          "output_type": "execute_result",
          "data": {
            "text/plain": [
              "['provinsi',\n",
              " 'gk.makanan.perkotaan.2015.maret',\n",
              " 'gk.makanan.perkotaan.2015.september',\n",
              " 'gk.makanan.perkotaan.2016.maret',\n",
              " 'gk.makanan.perkotaan.2016.september',\n",
              " 'gk.makanan.perdesaan.2015.maret',\n",
              " 'gk.makanan.perdesaan.2015.september',\n",
              " 'gk.makanan.perdesaan.2016.maret',\n",
              " 'gk.makanan.perdesaan.2016.september',\n",
              " 'gk.makanan.perdesaanperkotaan.2015.maret',\n",
              " 'gk.makanan.perdesaanperkotaan.2015.september',\n",
              " 'gk.makanan.perdesaanperkotaan.2016.maret',\n",
              " 'gk.makanan.perdesaanperkotaan.2016.september',\n",
              " 'gk.makanan.perkotaan.2017.maret',\n",
              " 'gk.makanan.perkotaan.2017.september',\n",
              " 'gk.makanan.perkotaan.2018.maret',\n",
              " 'gk.makanan.perkotaan.2018.september',\n",
              " 'gk.makanan.perdesaan.2017.maret',\n",
              " 'gk.makanan.perdesaan.2017.september',\n",
              " 'gk.makanan.perdesaan.2018.maret',\n",
              " 'gk.makanan.perdesaan.2018.september',\n",
              " 'gk.makanan.perdesaanperkotaan.2017.maret',\n",
              " 'gk.makanan.perdesaanperkotaan.2017.september',\n",
              " 'gk.makanan.perdesaanperkotaan.2018.maret',\n",
              " 'gk.makanan.perdesaanperkotaan.2018.september',\n",
              " 'gk.makanan.perkotaan.2019.maret',\n",
              " 'gk.makanan.perkotaan.2019.september',\n",
              " 'gk.makanan.perkotaan.2020.maret',\n",
              " 'gk.makanan.perkotaan.2020.september',\n",
              " 'gk.makanan.perdesaan.2019.maret',\n",
              " 'gk.makanan.perdesaan.2019.september',\n",
              " 'gk.makanan.perdesaan.2020.maret',\n",
              " 'gk.makanan.perdesaan.2020.september',\n",
              " 'gk.makanan.perdesaanperkotaan.2019.maret',\n",
              " 'gk.makanan.perdesaanperkotaan.2019.september',\n",
              " 'gk.makanan.perdesaanperkotaan.2020.maret',\n",
              " 'gk.makanan.perdesaanperkotaan.2020.september',\n",
              " 'gk.makanan.perkotaan.2021.maret',\n",
              " 'gk.makanan.perkotaan.2021.september',\n",
              " 'gk.makanan.perkotaan.2022.maret',\n",
              " 'gk.makanan.perkotaan.2022.september',\n",
              " 'gk.makanan.perdesaan.2021.maret',\n",
              " 'gk.makanan.perdesaan.2021.september',\n",
              " 'gk.makanan.perdesaan.2022.maret',\n",
              " 'gk.makanan.perdesaan.2022.september',\n",
              " 'gk.makanan.perdesaanperkotaan.2021.maret',\n",
              " 'gk.makanan.perdesaanperkotaan.2021.september',\n",
              " 'gk.makanan.perdesaanperkotaan.2022.maret',\n",
              " 'gk.makanan.perdesaanperkotaan.2022.september',\n",
              " 'gk.nonmakanan.perkotaan.2015.maret',\n",
              " 'gk.nonmakanan.perkotaan.2015.september',\n",
              " 'gk.nonmakanan.perkotaan.2016.maret',\n",
              " 'gk.nonmakanan.perkotaan.2016.september',\n",
              " 'gk.nonmakanan.perdesaan.2015.maret',\n",
              " 'gk.nonmakanan.perdesaan.2015.september',\n",
              " 'gk.nonmakanan.perdesaan.2016.maret',\n",
              " 'gk.nonmakanan.perdesaan.2016.september',\n",
              " 'gk.nonmakanan.perdesaanperkotaan.2015.maret',\n",
              " 'gk.nonmakanan.perdesaanperkotaan.2015.september',\n",
              " 'gk.nonmakanan.perdesaanperkotaan.2016.maret',\n",
              " 'gk.nonmakanan.perdesaanperkotaan.2016.september',\n",
              " 'gk.nonmakanan.perkotaan.2017.maret',\n",
              " 'gk.nonmakanan.perkotaan.2017.september',\n",
              " 'gk.nonmakanan.perkotaan.2018.maret',\n",
              " 'gk.nonmakanan.perkotaan.2018.september',\n",
              " 'gk.nonmakanan.perdesaan.2017.maret',\n",
              " 'gk.nonmakanan.perdesaan.2017.september',\n",
              " 'gk.nonmakanan.perdesaan.2018.maret',\n",
              " 'gk.nonmakanan.perdesaan.2018.september',\n",
              " 'gk.nonmakanan.perdesaanperkotaan.2017.maret',\n",
              " 'gk.nonmakanan.perdesaanperkotaan.2017.september',\n",
              " 'gk.nonmakanan.perdesaanperkotaan.2018.maret',\n",
              " 'gk.nonmakanan.perdesaanperkotaan.2018.september',\n",
              " 'gk.nonmakanan.perkotaan.2019.maret',\n",
              " 'gk.nonmakanan.perkotaan.2019.september',\n",
              " 'gk.nonmakanan.perkotaan.2020.maret',\n",
              " 'gk.nonmakanan.perkotaan.2020.september',\n",
              " 'gk.nonmakanan.perdesaan.2019.maret',\n",
              " 'gk.nonmakanan.perdesaan.2019.september',\n",
              " 'gk.nonmakanan.perdesaan.2020.maret',\n",
              " 'gk.nonmakanan.perdesaan.2020.september',\n",
              " 'gk.nonmakanan.perdesaanperkotaan.2019.maret',\n",
              " 'gk.nonmakanan.perdesaanperkotaan.2019.september',\n",
              " 'gk.nonmakanan.perdesaanperkotaan.2020.maret',\n",
              " 'gk.nonmakanan.perdesaanperkotaan.2020.september',\n",
              " 'gk.nonmakanan.perkotaan.2021.maret',\n",
              " 'gk.nonmakanan.perkotaan.2021.september',\n",
              " 'gk.nonmakanan.perkotaan.2022.maret',\n",
              " 'gk.nonmakanan.perkotaan.2022.september',\n",
              " 'gk.nonmakanan.perdesaan.2021.maret',\n",
              " 'gk.nonmakanan.perdesaan.2021.september',\n",
              " 'gk.nonmakanan.perdesaan.2022.maret',\n",
              " 'gk.nonmakanan.perdesaan.2022.september',\n",
              " 'gk.nonmakanan.perdesaanperkotaan.2021.maret',\n",
              " 'gk.nonmakanan.perdesaanperkotaan.2021.september',\n",
              " 'gk.nonmakanan.perdesaanperkotaan.2022.maret',\n",
              " 'gk.nonmakanan.perdesaanperkotaan.2022.september',\n",
              " 'gk.total.perkotaan.2013.maret',\n",
              " 'gk.total.perkotaan.2013.september',\n",
              " 'gk.total.perkotaan.2014.maret',\n",
              " 'gk.total.perkotaan.2014.september',\n",
              " 'gk.total.perdesaan.2013.maret',\n",
              " 'gk.total.perdesaan.2013.september',\n",
              " 'gk.total.perdesaan.2014.maret',\n",
              " 'gk.total.perdesaan.2014.september',\n",
              " 'gk.total.perdesaanperkotaan.2013.maret',\n",
              " 'gk.total.perdesaanperkotaan.2013.september',\n",
              " 'gk.total.perdesaanperkotaan.2014.maret',\n",
              " 'gk.total.perdesaanperkotaan.2014.september',\n",
              " 'gk.total.perkotaan.2015.maret',\n",
              " 'gk.total.perkotaan.2015.september',\n",
              " 'gk.total.perkotaan.2016.maret',\n",
              " 'gk.total.perkotaan.2016.september',\n",
              " 'gk.total.perdesaan.2015.maret',\n",
              " 'gk.total.perdesaan.2015.september',\n",
              " 'gk.total.perdesaan.2016.maret',\n",
              " 'gk.total.perdesaan.2016.september',\n",
              " 'gk.total.perdesaanperkotaan.2015.maret',\n",
              " 'gk.total.perdesaanperkotaan.2015.september',\n",
              " 'gk.total.perdesaanperkotaan.2016.maret',\n",
              " 'gk.total.perdesaanperkotaan.2016.september',\n",
              " 'gk.total.perkotaan.2017.maret',\n",
              " 'gk.total.perkotaan.2017.september',\n",
              " 'gk.total.perkotaan.2018.maret',\n",
              " 'gk.total.perkotaan.2018.september',\n",
              " 'gk.total.perdesaan.2017.maret',\n",
              " 'gk.total.perdesaan.2017.september',\n",
              " 'gk.total.perdesaan.2018.maret',\n",
              " 'gk.total.perdesaan.2018.september',\n",
              " 'gk.total.perdesaanperkotaan.2017.maret',\n",
              " 'gk.total.perdesaanperkotaan.2017.september',\n",
              " 'gk.total.perdesaanperkotaan.2018.maret',\n",
              " 'gk.total.perdesaanperkotaan.2018.september',\n",
              " 'gk.total.perkotaan.2019.maret',\n",
              " 'gk.total.perkotaan.2019.september',\n",
              " 'gk.total.perkotaan.2020.maret',\n",
              " 'gk.total.perkotaan.2020.september',\n",
              " 'gk.total.perdesaan.2019.maret',\n",
              " 'gk.total.perdesaan.2019.september',\n",
              " 'gk.total.perdesaan.2020.maret',\n",
              " 'gk.total.perdesaan.2020.september',\n",
              " 'gk.total.perdesaanperkotaan.2019.maret',\n",
              " 'gk.total.perdesaanperkotaan.2019.september',\n",
              " 'gk.total.perdesaanperkotaan.2020.maret',\n",
              " 'gk.total.perdesaanperkotaan.2020.september',\n",
              " 'gk.total.perkotaan.2021.maret',\n",
              " 'gk.total.perkotaan.2021.september',\n",
              " 'gk.total.perkotaan.2022.maret',\n",
              " 'gk.total.perkotaan.2022.september',\n",
              " 'gk.total.perdesaan.2021.maret',\n",
              " 'gk.total.perdesaan.2021.september',\n",
              " 'gk.total.perdesaan.2022.maret',\n",
              " 'gk.total.perdesaan.2022.september',\n",
              " 'gk.total.perdesaanperkotaan.2021.maret',\n",
              " 'gk.total.perdesaanperkotaan.2021.september',\n",
              " 'gk.total.perdesaanperkotaan.2022.maret',\n",
              " 'gk.total.perdesaanperkotaan.2022.september']"
            ]
          },
          "metadata": {},
          "execution_count": 16
        }
      ]
    },
    {
      "cell_type": "code",
      "source": [
        "# Menggambarkan distribusi data untuk kolom tertentu\n",
        "plt.figure(figsize=(12, 6))\n",
        "sns.countplot(x='gk.makanan.perkotaan.2022.september', data=dataset)  # Ganti dengan nama kolom yang valid\n",
        "plt.title('Distribusi Makanan Perkotaan September 2022')\n",
        "plt.xlabel('Jumlah Makanan Perkotaan')\n",
        "plt.ylabel('Frekuensi')\n",
        "plt.show()"
      ],
      "metadata": {
        "colab": {
          "base_uri": "https://localhost:8080/",
          "height": 564
        },
        "id": "qzZhgIRoEXkZ",
        "outputId": "c154d318-08ba-4cc0-fddf-e660ae71d789"
      },
      "execution_count": 17,
      "outputs": [
        {
          "output_type": "display_data",
          "data": {
            "text/plain": [
              "<Figure size 1200x600 with 1 Axes>"
            ],
            "image/png": "[encoded data removed]"
          },
          "metadata": {}
        }
      ]
    },
    {
      "cell_type": "code",
      "source": [
        "# Mempersiapkan data untuk model\n",
        "# Ganti 'target_column' dengan nama kolom target yang ingin diprediksi\n",
        "X = dataset.drop('gk.makanan.perkotaan.2022.september', axis=1)  # Mengganti 'target_column' dengan nama kolom target\n",
        "y = dataset['gk.makanan.perkotaan.2022.september']  # Mengganti 'target_column' dengan nama kolom target"
      ],
      "metadata": {
        "id": "m7TfqVnKEntM"
      },
      "execution_count": 18,
      "outputs": []
    },
    {
      "cell_type": "code",
      "source": [
        "# Pembagian data menjadi training dan testing\n",
        "X_train, X_test, y_train, y_test = train_test_split(X, y, test_size=0.2, random_state=42)"
      ],
      "metadata": {
        "id": "QgHwju6SE_p2"
      },
      "execution_count": 19,
      "outputs": []
    },
    {
      "cell_type": "code",
      "source": [
        "# Menentukan fitur dan target\n",
        "X = dataset.drop(columns=['gk.makanan.perkotaan.2022.september'])  # Fitur\n",
        "y = dataset['gk.makanan.perkotaan.2022.september']  # Target"
      ],
      "metadata": {
        "id": "BIMpsFbVFCOp"
      },
      "execution_count": 27,
      "outputs": []
    },
    {
      "cell_type": "code",
      "source": [
        "# Memisahkan data menjadi set pelatihan dan pengujian\n",
        "X_train, X_test, y_train, y_test = train_test_split(X, y, test_size=0.2, random_state=42)"
      ],
      "metadata": {
        "id": "rwXjm7jBGyKM"
      },
      "execution_count": 28,
      "outputs": []
    },
    {
      "cell_type": "code",
      "source": [
        "# Cek tipe data dan jumlah NaN\n",
        "print(\"Tipe data fitur (X_train):\")\n",
        "print(X_train.dtypes)\n",
        "\n",
        "print(\"\\nTipe data target (y_train):\")\n",
        "print(y_train.dtypes)\n",
        "\n",
        "print(\"\\nJumlah nilai NaN di X_train:\")\n",
        "print(X_train.isna().sum())\n",
        "\n",
        "print(\"\\nJumlah nilai NaN di y_train:\")\n",
        "print(y_train.isna().sum())"
      ],
      "metadata": {
        "colab": {
          "base_uri": "https://localhost:8080/"
        },
        "id": "0yu7Nyr2HiRb",
        "outputId": "0aaea5e4-3174-4bcd-8658-af58a3834411"
      },
      "execution_count": 33,
      "outputs": [
        {
          "output_type": "stream",
          "name": "stdout",
          "text": [
            "Tipe data fitur (X_train):\n",
            "provinsi                                       object\n",
            "gk.makanan.perkotaan.2015.maret                 int64\n",
            "gk.makanan.perkotaan.2015.september             int64\n",
            "gk.makanan.perkotaan.2016.maret                 int64\n",
            "gk.makanan.perkotaan.2016.september             int64\n",
            "                                               ...   \n",
            "gk.total.perdesaan.2022.september             float64\n",
            "gk.total.perdesaanperkotaan.2021.maret          int64\n",
            "gk.total.perdesaanperkotaan.2021.september      int64\n",
            "gk.total.perdesaanperkotaan.2022.maret          int64\n",
            "gk.total.perdesaanperkotaan.2022.september      int64\n",
            "Length: 156, dtype: object\n",
            "\n",
            "Tipe data target (y_train):\n",
            "int64\n",
            "\n",
            "Jumlah nilai NaN di X_train:\n",
            "provinsi                                      0\n",
            "gk.makanan.perkotaan.2015.maret               0\n",
            "gk.makanan.perkotaan.2015.september           0\n",
            "gk.makanan.perkotaan.2016.maret               0\n",
            "gk.makanan.perkotaan.2016.september           0\n",
            "                                             ..\n",
            "gk.total.perdesaan.2022.september             1\n",
            "gk.total.perdesaanperkotaan.2021.maret        0\n",
            "gk.total.perdesaanperkotaan.2021.september    0\n",
            "gk.total.perdesaanperkotaan.2022.maret        0\n",
            "gk.total.perdesaanperkotaan.2022.september    0\n",
            "Length: 156, dtype: int64\n",
            "\n",
            "Jumlah nilai NaN di y_train:\n",
            "0\n"
          ]
        }
      ]
    },
    {
      "cell_type": "code",
      "source": [
        "from sklearn.preprocessing import LabelEncoder"
      ],
      "metadata": {
        "id": "eVSJPg1OH-es"
      },
      "execution_count": 34,
      "outputs": []
    },
    {
      "cell_type": "code",
      "source": [
        "# Jika ada kolom string di X_train, lakukan encoding\n",
        "for column in X_train.select_dtypes(include=['object']).columns:\n",
        "    le = LabelEncoder()\n",
        "    X_train[column] = le.fit_transform(X_train[column])"
      ],
      "metadata": {
        "id": "3aKCYUNTIBVr"
      },
      "execution_count": 35,
      "outputs": []
    },
    {
      "cell_type": "code",
      "source": [
        "# Lakukan hal yang sama untuk y_train jika perlu\n",
        "if y_train.dtype == 'object':\n",
        "    le = LabelEncoder()\n",
        "    y_train = le.fit_transform(y_train)"
      ],
      "metadata": {
        "id": "WR9_Va8FIF0P"
      },
      "execution_count": 36,
      "outputs": []
    },
    {
      "cell_type": "code",
      "source": [
        "from sklearn.tree import DecisionTreeClassifier"
      ],
      "metadata": {
        "id": "eXPC9P4TIIzt"
      },
      "execution_count": 37,
      "outputs": []
    },
    {
      "cell_type": "code",
      "source": [
        "# Melatih model menggunakan Decision Tree\n",
        "try:\n",
        "    model = DecisionTreeClassifier(random_state=42)\n",
        "    model.fit(X_train, y_train)\n",
        "    print(\"Model berhasil dilatih.\")\n",
        "except ValueError as e:\n",
        "    print(\"Terjadi kesalahan saat melatih model:\", e)"
      ],
      "metadata": {
        "colab": {
          "base_uri": "https://localhost:8080/"
        },
        "id": "bo2slXhcILIv",
        "outputId": "ba6d8c4e-07fa-4553-869c-19ce341ca92f"
      },
      "execution_count": 38,
      "outputs": [
        {
          "output_type": "stream",
          "name": "stdout",
          "text": [
            "Model berhasil dilatih.\n"
          ]
        }
      ]
    }
  ]
}